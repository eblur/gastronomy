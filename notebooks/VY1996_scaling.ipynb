{
 "cells": [
  {
   "cell_type": "code",
   "execution_count": null,
   "id": "5c3930e7",
   "metadata": {},
   "outputs": [],
   "source": [
    "import numpy as np\n",
    "import matplotlib.pyplot as plt\n",
    "\n",
    "import astropy.units as u\n",
    "\n",
    "import gastronomy as gas"
   ]
  },
  {
   "cell_type": "markdown",
   "id": "7b88fb09",
   "metadata": {},
   "source": [
    "# Get theoretical gas-phase photoelectric absorption cross-sections\n",
    "\n",
    "Uses the constants from [Verner & Yaklovev (1995)](https://ui.adsabs.harvard.edu/abs/1995A%26AS..109..125V/abstract)"
   ]
  },
  {
   "cell_type": "code",
   "execution_count": null,
   "id": "8d36ce3a",
   "metadata": {},
   "outputs": [],
   "source": [
    "ENERGY = np.arange(0.1, 10.0, 0.005) * u.keV\n",
    "ELEMENT = 'Si'"
   ]
  },
  {
   "cell_type": "code",
   "execution_count": null,
   "id": "3a876fe3",
   "metadata": {},
   "outputs": [],
   "source": [
    "atomic_number = gas.abundances.Z[ELEMENT]\n",
    "ion_state = 0 # number of electrons removed from the ion (0=neutral)\n",
    "shell = 1 # principle quantum number for the shell (1 = K shell, 2 = L shell)"
   ]
  },
  {
   "cell_type": "code",
   "execution_count": null,
   "id": "b25da3de",
   "metadata": {},
   "outputs": [],
   "source": [
    "cross_section = gas.VY1995.compute_xsect(ENERGY, atomic_number, ion_state, shell) # returns units of Mbarn"
   ]
  },
  {
   "cell_type": "code",
   "execution_count": null,
   "id": "227ac269",
   "metadata": {},
   "outputs": [],
   "source": [
    "YUNIT = 'cm^2'\n",
    "plt.plot(ENERGY, cross_section.to(YUNIT))\n",
    "plt.xlabel(ENERGY.unit)\n",
    "plt.ylabel(YUNIT)"
   ]
  },
  {
   "cell_type": "markdown",
   "id": "6fecd737",
   "metadata": {},
   "source": [
    "## How do you get from cross-section to a value for MaxTau?\n",
    "\n",
    "Remember that in astronomy, we talk about the total number of atom integrated along the line of sight in terms of \"column density\" -- that is, a number per unit area (cm$^{-2}$).\n",
    "\n",
    "We can quantify how much light interacts with the total line-of-sight amount of the element of interest by multiplying the cross-section for interaction by the column density, yielding a unitless value. We call this value the \"optical depth\" and it is typically represented with the Greek letter $\\tau$:\n",
    "\n",
    "$$ \\tau = \\sigma (E) {\\rm N}_{\\rm Z}$$\n",
    "\n",
    "where $\\sigma (E)$ is the cross-sectional area (as a funciton of energy) and ${\\rm N}_{\\rm Z}$ is the column density of the element of interest with atomic number $Z$.\n",
    "\n",
    "The fraction of light that is removed as a result of absorption by element $Z$ is:\n",
    "\n",
    "$$ 1 - e^{-\\tau} $$\n",
    "\n",
    "With the XSPEC model, \"edge\", the $e^{-\\tau}$ factor is computed for you. When you fit for \"MaxTau\" in the XSPEC \"edge\" model, you are getting the amplitude of the photoelectric jump that you see in the plot, above, multiplied by the column density."
   ]
  },
  {
   "cell_type": "markdown",
   "id": "830f933a",
   "metadata": {},
   "source": [
    "**Thought exercise:** How would you determine the abundance of an element from the XSPEC ''MaxTau'' value, assuming the Verner & Yaklovev (1996) model?"
   ]
  },
  {
   "cell_type": "markdown",
   "id": "89506523",
   "metadata": {},
   "source": [
    "## Let's predict the MaxTau value, given some abundance table\n",
    "\n",
    "The gastronomy library has some of my favorite abundance tables stored in the `gastronomy.abundances` module. By default, all of the functions built-in to this model use the Wilms et al. (2000) ISM abundances table.\n",
    "\n",
    "Here I show how to get the total predicted column density of an element, from this table."
   ]
  },
  {
   "cell_type": "code",
   "execution_count": null,
   "id": "3e093068",
   "metadata": {},
   "outputs": [],
   "source": [
    "NH = 1.e22 * u.Unit('cm^-2') # column density of H-nuclei, as a benchmark"
   ]
  },
  {
   "cell_type": "code",
   "execution_count": null,
   "id": "b48cc750",
   "metadata": {},
   "outputs": [],
   "source": [
    "Si_per_H = gas.abundances.get_total_abund(ELEMENT) # returns the number of Fe atoms expected per H nucleus in the ISM\n",
    "NSi = Si_per_H * NH"
   ]
  },
  {
   "cell_type": "code",
   "execution_count": null,
   "id": "a4ad7bac",
   "metadata": {},
   "outputs": [],
   "source": [
    "print(NSi)"
   ]
  },
  {
   "cell_type": "markdown",
   "id": "ddb36252",
   "metadata": {},
   "source": [
    "**Thought question:** How would you compute the number of expected Si atoms when you have the abundance of a different element, like Ne?"
   ]
  },
  {
   "cell_type": "markdown",
   "id": "044400d4",
   "metadata": {},
   "source": [
    "With the column density of my element of interest, I can now plot optical depth as a function of energy."
   ]
  },
  {
   "cell_type": "code",
   "execution_count": null,
   "id": "48b6276a",
   "metadata": {},
   "outputs": [],
   "source": [
    "plt.plot(ENERGY, (cross_section * NSi).to(''))\n",
    "plt.xlabel(ENERGY.unit)\n",
    "plt.ylabel(r'$\\tau$ (gas absorption)')"
   ]
  },
  {
   "cell_type": "markdown",
   "id": "27eacabf",
   "metadata": {},
   "source": [
    "**Thought question:** What is the expected MaxTau value for this sight line? Did I need to plot it in order to figure out this value?"
   ]
  },
  {
   "cell_type": "markdown",
   "id": "d45d3a36",
   "metadata": {},
   "source": [
    "**Coding assignment:** Can you write a function that computes the MaxTau value for a given element (Z, assume neutral) and shell (1 = K shell and 2 = L shell)? Can you make a plot of the MaxTau value as it is expected to change with increasing Ne abundance? How about increasing H abundance?"
   ]
  },
  {
   "cell_type": "markdown",
   "id": "9a75fbb8",
   "metadata": {},
   "source": [
    "**Science question:** The dominant ion state for some elements in the cold ISM are not-neutral. For example, Si in the cold component of the ISM is expected to be singly ionized (Si$^{+1}$ in chemistry notation, SiII in astronomy). Does increasing the ion number from 0 to 1 change the MaxTau values significantly? Check for Ne, Si, Mg, and Fe L shell."
   ]
  },
  {
   "cell_type": "code",
   "execution_count": null,
   "id": "a243a1fc",
   "metadata": {},
   "outputs": [],
   "source": []
  }
 ],
 "metadata": {
  "kernelspec": {
   "display_name": "Python 3 (ipykernel)",
   "language": "python",
   "name": "python3"
  },
  "language_info": {
   "codemirror_mode": {
    "name": "ipython",
    "version": 3
   },
   "file_extension": ".py",
   "mimetype": "text/x-python",
   "name": "python",
   "nbconvert_exporter": "python",
   "pygments_lexer": "ipython3",
   "version": "3.9.7"
  }
 },
 "nbformat": 4,
 "nbformat_minor": 5
}
